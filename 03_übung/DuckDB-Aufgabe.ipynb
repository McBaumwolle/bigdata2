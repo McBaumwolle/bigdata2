{
 "cells": [
  {
   "cell_type": "markdown",
   "id": "a3146a2c",
   "metadata": {},
   "source": [
    "## SQL mit DuckDB"
   ]
  },
  {
   "cell_type": "markdown",
   "id": "6f487f9a",
   "metadata": {},
   "source": [
    "### Installation\n",
    "Auf https://duckdb.org/#quickinstall lässt sich überprüfen, welches die neueste Version ist. Wir arbeiten hier mit 0.7.1.\n",
    "- jupysql: Konvertiere eine Notebook Zelle in eine SQL Zelle via a %sql and %%sql magics\n",
    "- duckdb-engine: duckdb Driver, baut Verbindung zu einer DuckDB Datenbank auf"
   ]
  },
  {
   "cell_type": "code",
   "execution_count": null,
   "id": "ff905c06",
   "metadata": {},
   "outputs": [],
   "source": [
    "#!pip install duckdb==0.7.1"
   ]
  },
  {
   "cell_type": "code",
   "execution_count": null,
   "id": "6a6084d0",
   "metadata": {},
   "outputs": [],
   "source": [
    "#!pip install jupysql    \n",
    "#!pip install duckdb-engine \n",
    "#!pip install wget"
   ]
  },
  {
   "cell_type": "code",
   "execution_count": 3,
   "id": "941cbfef",
   "metadata": {},
   "outputs": [],
   "source": [
    "# Download JSON Dataset\n",
    "import wget\n",
    "filename = wget.download('https://vega.github.io/vega-datasets/data/cars.json')"
   ]
  },
  {
   "cell_type": "code",
   "execution_count": 4,
   "id": "b4547eb6",
   "metadata": {},
   "outputs": [
    {
     "name": "stderr",
     "output_type": "stream",
     "text": [
      "/tmp/ipykernel_15364/3250854491.py:2: DeprecationWarning: \n",
      "Pyarrow will become a required dependency of pandas in the next major release of pandas (pandas 3.0),\n",
      "(to allow more performant data types, such as the Arrow string type, and better interoperability with other libraries)\n",
      "but was not found to be installed on your system.\n",
      "If this would cause problems for you,\n",
      "please provide us feedback at https://github.com/pandas-dev/pandas/issues/54466\n",
      "        \n",
      "  import pandas as pd\n"
     ]
    },
    {
     "name": "stdout",
     "output_type": "stream",
     "text": [
      "Deploy Flask apps for free on Ploomber Cloud! Learn more: https://ploomber.io/s/signup\n"
     ]
    }
   ],
   "source": [
    "import duckdb\n",
    "import pandas as pd\n",
    "\n",
    "# Import jupysql Jupyter extension to create SQL cells\n",
    "%load_ext sql"
   ]
  },
  {
   "cell_type": "code",
   "execution_count": 5,
   "id": "1c7b99bb",
   "metadata": {},
   "outputs": [],
   "source": [
    "%config SqlMagic.autopandas = True\n",
    "%config SqlMagic.feedback = False\n",
    "%config SqlMagic.displaycon = False"
   ]
  },
  {
   "cell_type": "code",
   "execution_count": 6,
   "id": "8d85c420",
   "metadata": {},
   "outputs": [],
   "source": [
    "%sql duckdb:///memory\n",
    "# %sql duckdb:///path/to/file.db"
   ]
  },
  {
   "cell_type": "markdown",
   "id": "aca1463b-fa36-49f0-a97a-73059dc1152b",
   "metadata": {},
   "source": [
    "Einzeilige SQL Anfragen können mit %sql am Beginn der Zeile abgesetzt werden. Die Ergebnisse der Anfrage werden mittels eines Pandas Dataframe angezeigt."
   ]
  },
  {
   "cell_type": "code",
   "execution_count": 7,
   "id": "c87239f0-28d4-49dc-8d5e-b4eb15d85b02",
   "metadata": {},
   "outputs": [
    {
     "data": {
      "text/html": [
       "<div>\n",
       "<style scoped>\n",
       "    .dataframe tbody tr th:only-of-type {\n",
       "        vertical-align: middle;\n",
       "    }\n",
       "\n",
       "    .dataframe tbody tr th {\n",
       "        vertical-align: top;\n",
       "    }\n",
       "\n",
       "    .dataframe thead th {\n",
       "        text-align: right;\n",
       "    }\n",
       "</style>\n",
       "<table border=\"1\" class=\"dataframe\">\n",
       "  <thead>\n",
       "    <tr style=\"text-align: right;\">\n",
       "      <th></th>\n",
       "      <th>a_duckdb_column</th>\n",
       "    </tr>\n",
       "  </thead>\n",
       "  <tbody>\n",
       "    <tr>\n",
       "      <th>0</th>\n",
       "      <td>Off and flying!</td>\n",
       "    </tr>\n",
       "  </tbody>\n",
       "</table>\n",
       "</div>"
      ],
      "text/plain": [
       "   a_duckdb_column\n",
       "0  Off and flying!"
      ]
     },
     "execution_count": 7,
     "metadata": {},
     "output_type": "execute_result"
    }
   ],
   "source": [
    "%sql SELECT 'Off and flying!' as a_duckdb_column"
   ]
  },
  {
   "cell_type": "code",
   "execution_count": 8,
   "id": "cb414218",
   "metadata": {},
   "outputs": [
    {
     "data": {
      "text/html": [
       "<div>\n",
       "<style scoped>\n",
       "    .dataframe tbody tr th:only-of-type {\n",
       "        vertical-align: middle;\n",
       "    }\n",
       "\n",
       "    .dataframe tbody tr th {\n",
       "        vertical-align: top;\n",
       "    }\n",
       "\n",
       "    .dataframe thead th {\n",
       "        text-align: right;\n",
       "    }\n",
       "</style>\n",
       "<table border=\"1\" class=\"dataframe\">\n",
       "  <thead>\n",
       "    <tr style=\"text-align: right;\">\n",
       "      <th></th>\n",
       "      <th>Count</th>\n",
       "    </tr>\n",
       "  </thead>\n",
       "  <tbody>\n",
       "    <tr>\n",
       "      <th>0</th>\n",
       "      <td>406</td>\n",
       "    </tr>\n",
       "  </tbody>\n",
       "</table>\n",
       "</div>"
      ],
      "text/plain": [
       "   Count\n",
       "0    406"
      ]
     },
     "execution_count": 8,
     "metadata": {},
     "output_type": "execute_result"
    }
   ],
   "source": [
    "%sql CREATE TABLE cars AS SELECT * FROM read_json_auto('cars.json')"
   ]
  },
  {
   "cell_type": "markdown",
   "id": "c8be7bc2",
   "metadata": {},
   "source": [
    "*Aufgabe*: Geben Sie die ersten 5 Zeilen aus"
   ]
  },
  {
   "cell_type": "code",
   "execution_count": 9,
   "id": "9b51c4e0",
   "metadata": {},
   "outputs": [
    {
     "data": {
      "text/html": [
       "<div>\n",
       "<style scoped>\n",
       "    .dataframe tbody tr th:only-of-type {\n",
       "        vertical-align: middle;\n",
       "    }\n",
       "\n",
       "    .dataframe tbody tr th {\n",
       "        vertical-align: top;\n",
       "    }\n",
       "\n",
       "    .dataframe thead th {\n",
       "        text-align: right;\n",
       "    }\n",
       "</style>\n",
       "<table border=\"1\" class=\"dataframe\">\n",
       "  <thead>\n",
       "    <tr style=\"text-align: right;\">\n",
       "      <th></th>\n",
       "      <th>Name</th>\n",
       "      <th>Miles_per_Gallon</th>\n",
       "      <th>Cylinders</th>\n",
       "      <th>Displacement</th>\n",
       "      <th>Horsepower</th>\n",
       "      <th>Weight_in_lbs</th>\n",
       "      <th>Acceleration</th>\n",
       "      <th>Year</th>\n",
       "      <th>Origin</th>\n",
       "    </tr>\n",
       "  </thead>\n",
       "  <tbody>\n",
       "    <tr>\n",
       "      <th>0</th>\n",
       "      <td>chevrolet chevelle malibu</td>\n",
       "      <td>18.0</td>\n",
       "      <td>8</td>\n",
       "      <td>307.0</td>\n",
       "      <td>130</td>\n",
       "      <td>3504</td>\n",
       "      <td>12.0</td>\n",
       "      <td>1970-01-01</td>\n",
       "      <td>USA</td>\n",
       "    </tr>\n",
       "    <tr>\n",
       "      <th>1</th>\n",
       "      <td>buick skylark 320</td>\n",
       "      <td>15.0</td>\n",
       "      <td>8</td>\n",
       "      <td>350.0</td>\n",
       "      <td>165</td>\n",
       "      <td>3693</td>\n",
       "      <td>11.5</td>\n",
       "      <td>1970-01-01</td>\n",
       "      <td>USA</td>\n",
       "    </tr>\n",
       "    <tr>\n",
       "      <th>2</th>\n",
       "      <td>plymouth satellite</td>\n",
       "      <td>18.0</td>\n",
       "      <td>8</td>\n",
       "      <td>318.0</td>\n",
       "      <td>150</td>\n",
       "      <td>3436</td>\n",
       "      <td>11.0</td>\n",
       "      <td>1970-01-01</td>\n",
       "      <td>USA</td>\n",
       "    </tr>\n",
       "    <tr>\n",
       "      <th>3</th>\n",
       "      <td>amc rebel sst</td>\n",
       "      <td>16.0</td>\n",
       "      <td>8</td>\n",
       "      <td>304.0</td>\n",
       "      <td>150</td>\n",
       "      <td>3433</td>\n",
       "      <td>12.0</td>\n",
       "      <td>1970-01-01</td>\n",
       "      <td>USA</td>\n",
       "    </tr>\n",
       "    <tr>\n",
       "      <th>4</th>\n",
       "      <td>ford torino</td>\n",
       "      <td>17.0</td>\n",
       "      <td>8</td>\n",
       "      <td>302.0</td>\n",
       "      <td>140</td>\n",
       "      <td>3449</td>\n",
       "      <td>10.5</td>\n",
       "      <td>1970-01-01</td>\n",
       "      <td>USA</td>\n",
       "    </tr>\n",
       "  </tbody>\n",
       "</table>\n",
       "</div>"
      ],
      "text/plain": [
       "                        Name  Miles_per_Gallon  Cylinders  Displacement  \\\n",
       "0  chevrolet chevelle malibu              18.0          8         307.0   \n",
       "1          buick skylark 320              15.0          8         350.0   \n",
       "2         plymouth satellite              18.0          8         318.0   \n",
       "3              amc rebel sst              16.0          8         304.0   \n",
       "4                ford torino              17.0          8         302.0   \n",
       "\n",
       "   Horsepower  Weight_in_lbs  Acceleration       Year Origin  \n",
       "0         130           3504          12.0 1970-01-01    USA  \n",
       "1         165           3693          11.5 1970-01-01    USA  \n",
       "2         150           3436          11.0 1970-01-01    USA  \n",
       "3         150           3433          12.0 1970-01-01    USA  \n",
       "4         140           3449          10.5 1970-01-01    USA  "
      ]
     },
     "execution_count": 9,
     "metadata": {},
     "output_type": "execute_result"
    }
   ],
   "source": [
    "%sql SELECT * FROM cars LIMIT 5"
   ]
  },
  {
   "cell_type": "code",
   "execution_count": 12,
   "id": "abc2659c",
   "metadata": {},
   "outputs": [
    {
     "data": {
      "text/html": [
       "<div>\n",
       "<style scoped>\n",
       "    .dataframe tbody tr th:only-of-type {\n",
       "        vertical-align: middle;\n",
       "    }\n",
       "\n",
       "    .dataframe tbody tr th {\n",
       "        vertical-align: top;\n",
       "    }\n",
       "\n",
       "    .dataframe thead th {\n",
       "        text-align: right;\n",
       "    }\n",
       "</style>\n",
       "<table border=\"1\" class=\"dataframe\">\n",
       "  <thead>\n",
       "    <tr style=\"text-align: right;\">\n",
       "      <th></th>\n",
       "      <th>Year</th>\n",
       "    </tr>\n",
       "  </thead>\n",
       "  <tbody>\n",
       "    <tr>\n",
       "      <th>0</th>\n",
       "      <td>1970-01-01</td>\n",
       "    </tr>\n",
       "    <tr>\n",
       "      <th>1</th>\n",
       "      <td>1971-01-01</td>\n",
       "    </tr>\n",
       "    <tr>\n",
       "      <th>2</th>\n",
       "      <td>1972-01-01</td>\n",
       "    </tr>\n",
       "    <tr>\n",
       "      <th>3</th>\n",
       "      <td>1973-01-01</td>\n",
       "    </tr>\n",
       "    <tr>\n",
       "      <th>4</th>\n",
       "      <td>1974-01-01</td>\n",
       "    </tr>\n",
       "    <tr>\n",
       "      <th>5</th>\n",
       "      <td>1975-01-01</td>\n",
       "    </tr>\n",
       "    <tr>\n",
       "      <th>6</th>\n",
       "      <td>1976-01-01</td>\n",
       "    </tr>\n",
       "    <tr>\n",
       "      <th>7</th>\n",
       "      <td>1977-01-01</td>\n",
       "    </tr>\n",
       "    <tr>\n",
       "      <th>8</th>\n",
       "      <td>1978-01-01</td>\n",
       "    </tr>\n",
       "    <tr>\n",
       "      <th>9</th>\n",
       "      <td>1979-01-01</td>\n",
       "    </tr>\n",
       "    <tr>\n",
       "      <th>10</th>\n",
       "      <td>1980-01-01</td>\n",
       "    </tr>\n",
       "    <tr>\n",
       "      <th>11</th>\n",
       "      <td>1982-01-01</td>\n",
       "    </tr>\n",
       "  </tbody>\n",
       "</table>\n",
       "</div>"
      ],
      "text/plain": [
       "         Year\n",
       "0  1970-01-01\n",
       "1  1971-01-01\n",
       "2  1972-01-01\n",
       "3  1973-01-01\n",
       "4  1974-01-01\n",
       "5  1975-01-01\n",
       "6  1976-01-01\n",
       "7  1977-01-01\n",
       "8  1978-01-01\n",
       "9  1979-01-01\n",
       "10 1980-01-01\n",
       "11 1982-01-01"
      ]
     },
     "execution_count": 12,
     "metadata": {},
     "output_type": "execute_result"
    }
   ],
   "source": [
    "%sql SELECT DISTINCT year FROM cars "
   ]
  },
  {
   "cell_type": "markdown",
   "id": "cfe5b81f",
   "metadata": {},
   "source": [
    "Aufgabe: Wie viele Einträge gibt es pro Land? "
   ]
  },
  {
   "cell_type": "code",
   "execution_count": 15,
   "id": "935cb1e8",
   "metadata": {
    "vscode": {
     "languageId": "sql"
    }
   },
   "outputs": [
    {
     "data": {
      "text/html": [
       "<div>\n",
       "<style scoped>\n",
       "    .dataframe tbody tr th:only-of-type {\n",
       "        vertical-align: middle;\n",
       "    }\n",
       "\n",
       "    .dataframe tbody tr th {\n",
       "        vertical-align: top;\n",
       "    }\n",
       "\n",
       "    .dataframe thead th {\n",
       "        text-align: right;\n",
       "    }\n",
       "</style>\n",
       "<table border=\"1\" class=\"dataframe\">\n",
       "  <thead>\n",
       "    <tr style=\"text-align: right;\">\n",
       "      <th></th>\n",
       "      <th>Origin</th>\n",
       "      <th>count</th>\n",
       "    </tr>\n",
       "  </thead>\n",
       "  <tbody>\n",
       "    <tr>\n",
       "      <th>0</th>\n",
       "      <td>USA</td>\n",
       "      <td>254</td>\n",
       "    </tr>\n",
       "    <tr>\n",
       "      <th>1</th>\n",
       "      <td>Europe</td>\n",
       "      <td>73</td>\n",
       "    </tr>\n",
       "    <tr>\n",
       "      <th>2</th>\n",
       "      <td>Japan</td>\n",
       "      <td>79</td>\n",
       "    </tr>\n",
       "  </tbody>\n",
       "</table>\n",
       "</div>"
      ],
      "text/plain": [
       "   Origin  count\n",
       "0     USA    254\n",
       "1  Europe     73\n",
       "2   Japan     79"
      ]
     },
     "execution_count": 15,
     "metadata": {},
     "output_type": "execute_result"
    }
   ],
   "source": [
    "%sql SELECT origin, COUNT(*) as count FROM cars GROUP BY origin"
   ]
  },
  {
   "cell_type": "markdown",
   "id": "68309650",
   "metadata": {},
   "source": [
    "Frage: Was ist der Unterschied zwischen count und count distinct? "
   ]
  },
  {
   "cell_type": "markdown",
   "id": "7e6e3864",
   "metadata": {},
   "source": [
    "_Antwort_: `COUNT` zählt einfach alles und `DISTINCT` zählt nur die einzigartigen Werte."
   ]
  },
  {
   "cell_type": "markdown",
   "id": "2f00f97a-1912-4e58-bb53-61d06a781f72",
   "metadata": {},
   "source": [
    "Einlesen einer Datenbankabfrage in ein Pandas DataFrame. Mit diesem kann anschließend ganz normal weitergearbeitet werden, zum Beispiel kann die Anfrage visualisiert werden."
   ]
  },
  {
   "cell_type": "code",
   "execution_count": 16,
   "id": "58006fe8",
   "metadata": {},
   "outputs": [],
   "source": [
    "%sql my_df << SELECT Origin, count (*) as quantity FROM cars GROUP BY 1"
   ]
  },
  {
   "cell_type": "code",
   "execution_count": 17,
   "id": "57e1fb9e",
   "metadata": {
    "tags": []
   },
   "outputs": [
    {
     "data": {
      "text/html": [
       "\n",
       "<style>\n",
       "  #altair-viz-b5ab360cb30a45e58bbba8f825e6b7fc.vega-embed {\n",
       "    width: 100%;\n",
       "    display: flex;\n",
       "  }\n",
       "\n",
       "  #altair-viz-b5ab360cb30a45e58bbba8f825e6b7fc.vega-embed details,\n",
       "  #altair-viz-b5ab360cb30a45e58bbba8f825e6b7fc.vega-embed details summary {\n",
       "    position: relative;\n",
       "  }\n",
       "</style>\n",
       "<div id=\"altair-viz-b5ab360cb30a45e58bbba8f825e6b7fc\"></div>\n",
       "<script type=\"text/javascript\">\n",
       "  var VEGA_DEBUG = (typeof VEGA_DEBUG == \"undefined\") ? {} : VEGA_DEBUG;\n",
       "  (function(spec, embedOpt){\n",
       "    let outputDiv = document.currentScript.previousElementSibling;\n",
       "    if (outputDiv.id !== \"altair-viz-b5ab360cb30a45e58bbba8f825e6b7fc\") {\n",
       "      outputDiv = document.getElementById(\"altair-viz-b5ab360cb30a45e58bbba8f825e6b7fc\");\n",
       "    }\n",
       "    const paths = {\n",
       "      \"vega\": \"https://cdn.jsdelivr.net/npm/vega@5?noext\",\n",
       "      \"vega-lib\": \"https://cdn.jsdelivr.net/npm/vega-lib?noext\",\n",
       "      \"vega-lite\": \"https://cdn.jsdelivr.net/npm/vega-lite@5.17.0?noext\",\n",
       "      \"vega-embed\": \"https://cdn.jsdelivr.net/npm/vega-embed@6?noext\",\n",
       "    };\n",
       "\n",
       "    function maybeLoadScript(lib, version) {\n",
       "      var key = `${lib.replace(\"-\", \"\")}_version`;\n",
       "      return (VEGA_DEBUG[key] == version) ?\n",
       "        Promise.resolve(paths[lib]) :\n",
       "        new Promise(function(resolve, reject) {\n",
       "          var s = document.createElement('script');\n",
       "          document.getElementsByTagName(\"head\")[0].appendChild(s);\n",
       "          s.async = true;\n",
       "          s.onload = () => {\n",
       "            VEGA_DEBUG[key] = version;\n",
       "            return resolve(paths[lib]);\n",
       "          };\n",
       "          s.onerror = () => reject(`Error loading script: ${paths[lib]}`);\n",
       "          s.src = paths[lib];\n",
       "        });\n",
       "    }\n",
       "\n",
       "    function showError(err) {\n",
       "      outputDiv.innerHTML = `<div class=\"error\" style=\"color:red;\">${err}</div>`;\n",
       "      throw err;\n",
       "    }\n",
       "\n",
       "    function displayChart(vegaEmbed) {\n",
       "      vegaEmbed(outputDiv, spec, embedOpt)\n",
       "        .catch(err => showError(`Javascript Error: ${err.message}<br>This usually means there's a typo in your chart specification. See the javascript console for the full traceback.`));\n",
       "    }\n",
       "\n",
       "    if(typeof define === \"function\" && define.amd) {\n",
       "      requirejs.config({paths});\n",
       "      require([\"vega-embed\"], displayChart, err => showError(`Error loading script: ${err.message}`));\n",
       "    } else {\n",
       "      maybeLoadScript(\"vega\", \"5\")\n",
       "        .then(() => maybeLoadScript(\"vega-lite\", \"5.17.0\"))\n",
       "        .then(() => maybeLoadScript(\"vega-embed\", \"6\"))\n",
       "        .catch(showError)\n",
       "        .then(() => displayChart(vegaEmbed));\n",
       "    }\n",
       "  })({\"config\": {\"view\": {\"continuousWidth\": 300, \"continuousHeight\": 300}}, \"data\": {\"name\": \"data-3357cfa91acdb9baae6f8037465c83a1\"}, \"mark\": {\"type\": \"bar\"}, \"encoding\": {\"x\": {\"field\": \"Origin\", \"type\": \"nominal\"}, \"y\": {\"field\": \"quantity\", \"type\": \"quantitative\"}}, \"$schema\": \"https://vega.github.io/schema/vega-lite/v5.17.0.json\", \"datasets\": {\"data-3357cfa91acdb9baae6f8037465c83a1\": [{\"Origin\": \"USA\", \"quantity\": 254}, {\"Origin\": \"Europe\", \"quantity\": 73}, {\"Origin\": \"Japan\", \"quantity\": 79}]}}, {\"mode\": \"vega-lite\"});\n",
       "</script>"
      ],
      "text/plain": [
       "alt.Chart(...)"
      ]
     },
     "execution_count": 17,
     "metadata": {},
     "output_type": "execute_result"
    }
   ],
   "source": [
    "import altair as alt\n",
    "alt.Chart(my_df).mark_bar().encode(         # type: ignore\n",
    "    x='Origin',\n",
    "    y='quantity'\n",
    ")"
   ]
  },
  {
   "cell_type": "markdown",
   "id": "97c7a130",
   "metadata": {},
   "source": [
    "#### Aggregationen"
   ]
  },
  {
   "cell_type": "code",
   "execution_count": 18,
   "id": "f50421ff",
   "metadata": {},
   "outputs": [
    {
     "data": {
      "text/html": [
       "<div>\n",
       "<style scoped>\n",
       "    .dataframe tbody tr th:only-of-type {\n",
       "        vertical-align: middle;\n",
       "    }\n",
       "\n",
       "    .dataframe tbody tr th {\n",
       "        vertical-align: top;\n",
       "    }\n",
       "\n",
       "    .dataframe thead th {\n",
       "        text-align: right;\n",
       "    }\n",
       "</style>\n",
       "<table border=\"1\" class=\"dataframe\">\n",
       "  <thead>\n",
       "    <tr style=\"text-align: right;\">\n",
       "      <th></th>\n",
       "      <th>#rows</th>\n",
       "      <th>avg</th>\n",
       "      <th>sum</th>\n",
       "      <th>max</th>\n",
       "    </tr>\n",
       "  </thead>\n",
       "  <tbody>\n",
       "    <tr>\n",
       "      <th>0</th>\n",
       "      <td>406</td>\n",
       "      <td>2979.413793</td>\n",
       "      <td>1209642.0</td>\n",
       "      <td>5140</td>\n",
       "    </tr>\n",
       "  </tbody>\n",
       "</table>\n",
       "</div>"
      ],
      "text/plain": [
       "   #rows          avg        sum   max\n",
       "0    406  2979.413793  1209642.0  5140"
      ]
     },
     "execution_count": 18,
     "metadata": {},
     "output_type": "execute_result"
    }
   ],
   "source": [
    "%%sql\n",
    "SELECT COUNT(*) AS '#rows',\n",
    "       AVG(weight_in_lbs) AS 'avg',\n",
    "       SUM(weight_in_lbs) AS 'sum',\n",
    "       MAX(weight_in_lbs) AS 'max'\n",
    "FROM cars \n",
    "       "
   ]
  },
  {
   "cell_type": "markdown",
   "id": "2b0ae582-79f4-471c-be69-6e8b53c26eff",
   "metadata": {},
   "source": [
    "Aufgabe: Geben Sie alle Gewichte als String geordnet nach der Zylindergröße (c.cylinders DESC) als \"all weights\" aus. Nutzen Sie die Funktion string_agg(). "
   ]
  },
  {
   "cell_type": "code",
   "execution_count": null,
   "id": "77be9aa5",
   "metadata": {},
   "outputs": [],
   "source": []
  },
  {
   "cell_type": "markdown",
   "id": "ac717559",
   "metadata": {},
   "source": [
    "#### Pivoting"
   ]
  },
  {
   "cell_type": "code",
   "execution_count": null,
   "id": "0f72dacb",
   "metadata": {},
   "outputs": [],
   "source": [
    "%%sql\n",
    "SELECT AVG(c.weight_in_lbs) FILTER(WHERE c.origin='USA') AS 'avg'\n",
    "FROM cars AS c"
   ]
  },
  {
   "cell_type": "markdown",
   "id": "37a8e367-bda6-4d5c-8d32-c05ba1c3861f",
   "metadata": {},
   "source": [
    "Aufgabe: Geben Sie die Durchschnittsgewichte für die USA, Japan und Europa aus"
   ]
  },
  {
   "cell_type": "code",
   "execution_count": null,
   "id": "ba5dcdaf",
   "metadata": {},
   "outputs": [],
   "source": []
  },
  {
   "cell_type": "markdown",
   "id": "d382358d",
   "metadata": {},
   "source": [
    "#### Grouping"
   ]
  },
  {
   "cell_type": "code",
   "execution_count": null,
   "id": "35150155",
   "metadata": {},
   "outputs": [],
   "source": [
    "%%sql\n",
    "SELECT origin, ROUND(AVG(c.weight_in_lbs),2) AS 'avg'\n",
    "FROM cars AS c\n",
    "GROUP BY c.origin"
   ]
  },
  {
   "cell_type": "markdown",
   "id": "ee509c11-5ea4-4f6a-805f-e1f6ae7d8757",
   "metadata": {},
   "source": [
    "Aufgabe: Erweitern Sie die obige Anfrage, so dass nur der Durchschnitt der europäischen Länder ausgegeben wird. "
   ]
  },
  {
   "cell_type": "markdown",
   "id": "abf7132e",
   "metadata": {},
   "source": [
    "#### Subqueries \n",
    "Wie oft kommen bestimmte Attribute in einem Datensatz vor? "
   ]
  },
  {
   "cell_type": "code",
   "execution_count": null,
   "id": "b607f079",
   "metadata": {},
   "outputs": [],
   "source": [
    "%%sql \n",
    "SELECT nb_new_cars, count(*) as num_years\n",
    "FROM (\n",
    "    SELECT year, count(name) AS nb_new_cars\n",
    "    FROM cars AS c\n",
    "    GROUP BY 1\n",
    ") a\n",
    "GROUP BY 1"
   ]
  },
  {
   "cell_type": "code",
   "execution_count": null,
   "id": "38d76e58",
   "metadata": {},
   "outputs": [],
   "source": [
    "%%sql\n",
    "SELECT year, count(name) AS nb_new_cars\n",
    "FROM cars AS c\n",
    "GROUP BY 1"
   ]
  },
  {
   "cell_type": "markdown",
   "id": "267e3081",
   "metadata": {},
   "source": [
    "#### Binning"
   ]
  },
  {
   "cell_type": "code",
   "execution_count": null,
   "id": "e19ee705",
   "metadata": {},
   "outputs": [],
   "source": [
    "%%sql\n",
    "SELECT \n",
    "case when horsepower <= 70 then '0: 0 - 70'\n",
    "     when horsepower <= 140 then '1: 70 - 140'\n",
    "     when horsepower <= 210 then '2: 140 - 210'\n",
    "     else '3: 210+' end as horsepower_bin\n",
    ",count(name) as cars\n",
    "FROM cars\n",
    "GROUP BY 1\n",
    "order by horsepower_bin\n",
    ";"
   ]
  },
  {
   "cell_type": "code",
   "execution_count": null,
   "id": "ec77166e",
   "metadata": {
    "tags": []
   },
   "outputs": [],
   "source": [
    "%%sql\n",
    "SELECT min(horsepower), max(horsepower) FROM cars"
   ]
  },
  {
   "cell_type": "markdown",
   "id": "1ae2a6b5-de7f-4a88-9549-e2bcdf630fe2",
   "metadata": {},
   "source": [
    "### Weitere Datenformate\n",
    "DuckDB’s httpfs extension allows parquet and csv files to be queried remotely over http. These examples query a parquet file that contains historical taxi data from NYC. Using the parquet format allows DuckDB to only pull the rows and columns into memory that are needed rather than download the entire file. DuckDB can be used to process local parquet files as well, which may be desirable if querying the entire parquet file, or running multiple queries that require large subsets of the file."
   ]
  },
  {
   "cell_type": "code",
   "execution_count": null,
   "id": "b1ab08ce-a989-4e44-9314-6d19243fd480",
   "metadata": {},
   "outputs": [],
   "source": [
    "%%sql\n",
    "INSTALL httpfs;\n",
    "LOAD httpfs;"
   ]
  },
  {
   "cell_type": "code",
   "execution_count": null,
   "id": "11d2ef24-7ead-4adb-a271-98b5a662546f",
   "metadata": {},
   "outputs": [],
   "source": [
    "%sqlplot boxplot --table https://d37ci6vzurychx.cloudfront.net/trip-data/yellow_tripdata_2021-01.parquet --column trip_distance"
   ]
  },
  {
   "cell_type": "code",
   "execution_count": null,
   "id": "cfc54e68-dcf0-404a-aa52-370f94c2b2e6",
   "metadata": {},
   "outputs": [],
   "source": []
  }
 ],
 "metadata": {
  "kernelspec": {
   "display_name": "Python 3 (ipykernel)",
   "language": "python",
   "name": "python3"
  },
  "language_info": {
   "codemirror_mode": {
    "name": "ipython",
    "version": 3
   },
   "file_extension": ".py",
   "mimetype": "text/x-python",
   "name": "python",
   "nbconvert_exporter": "python",
   "pygments_lexer": "ipython3",
   "version": "3.10.12"
  }
 },
 "nbformat": 4,
 "nbformat_minor": 5
}
